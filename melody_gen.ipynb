{
 "cells": [
  {
   "cell_type": "code",
   "execution_count": 6,
   "metadata": {},
   "outputs": [],
   "source": [
    "import random\n",
    "import math"
   ]
  },
  {
   "cell_type": "code",
   "execution_count": 1,
   "metadata": {},
   "outputs": [],
   "source": [
    "pitch_options = [-1, 60, 62, 64, 65, 67, 69, 71, 72]\n",
    "num_beats = 8\n",
    "rhythm_options = [0.25, 0.5, 1, 1.5, 2, 3, 4]"
   ]
  },
  {
   "cell_type": "code",
   "execution_count": 33,
   "metadata": {},
   "outputs": [],
   "source": [
    "def gen_melody(num_beats, rhythm_options, pitch_options):\n",
    "    beats_used = num_beats\n",
    "    out = []\n",
    "    while beats_used > 0:\n",
    "        rand_ind = random.randint(0, 6)\n",
    "        sel = rhythm_options[rand_ind]\n",
    "        rand_ind = random.randint(0, 8)\n",
    "        pitch =  pitch_options[rand_ind]\n",
    "        beats_used, sel = gen_rhythm(beats_used, sel)\n",
    "        out.append((pitch, sel))\n",
    "        # if beats_used - sel > 0:\n",
    "        #     beats_used = beats_used - sel\n",
    "        #     out.append((pitch, sel))\n",
    "        # else:\n",
    "        #     # sel /= 2\n",
    "        #     # beats_used = beats_used - sel\n",
    "        #     out.append((pitch, sel))\n",
    "    random.shuffle(out)\n",
    "    return out\n",
    "\n",
    "def gen_rhythm(beats_used, sel):\n",
    "        if beats_used - sel > 0:\n",
    "            beats_used = beats_used - sel\n",
    "            return (beats_used, sel)\n",
    "        else:\n",
    "            sel /= 2\n",
    "            return gen_rhythm(beats_used, sel)"
   ]
  },
  {
   "cell_type": "code",
   "execution_count": 74,
   "metadata": {},
   "outputs": [],
   "source": [
    "target = [(0, 4, 60), (4, 4, 72), (8, 0, 72)]\n",
    "p1 = [(0, 2, 60), (2, 2, 60), (4, 2, 62), (6, 2, 62), (8, 0, 62)]\n",
    "p2 = [(0, 4, 69), (4, 4, 65), (8, 0, 65)]\n",
    "p3 = [(0, 4, 62), (4, 4, 62), (8, 0, 62)]\n",
    "p4 = [(0, 4, 60), (4, 2, 69), (6, 2, 67), (8, 0, 67)]\n",
    "p5 = [(0, 1, 60), (1, 1, 62), (2, 1, 64), (3, 1, 65), (4, 1, 67), (5, 1, 69), (6, 1, 71), (7, 1, 72), (8, 0, 72)]\n",
    "p6 = [(0, 1, 60), (1, 1, 60), (2, 1, 60), (3, 1, 60), (4, 1, 72), (5, 1, 72), (6, 1, 72), (7, 1, 72), (8, 0, 72)]\n"
   ]
  },
  {
   "cell_type": "code",
   "execution_count": 62,
   "metadata": {},
   "outputs": [],
   "source": [
    "target = [(0, 4, 60), (4, 4, 72)]\n",
    "p1 = [(0, 2, 60), (2, 2, 60), (4, 2, 62), (6, 2, 62)]\n",
    "p2 = [(0, 4, 69), (4, 4, 65)]\n",
    "p3 = [(0, 4, 62), (4, 4, 62)]\n",
    "p4 = [(0, 4, 60), (4, 2, 69), (6, 2, 67)]"
   ]
  },
  {
   "cell_type": "code",
   "execution_count": 6,
   "metadata": {},
   "outputs": [],
   "source": [
    "import matplotlib.pyplot as plt"
   ]
  },
  {
   "cell_type": "code",
   "execution_count": 18,
   "metadata": {},
   "outputs": [
    {
     "name": "stdout",
     "output_type": "stream",
     "text": [
      "(0, 2, 4, 6)\n"
     ]
    }
   ],
   "source": [
    "print(list(zip(*p1))[0])"
   ]
  },
  {
   "cell_type": "code",
   "execution_count": 75,
   "metadata": {},
   "outputs": [
    {
     "data": {
      "image/png": "[encoded data removed]",
      "text/plain": [
       "<Figure size 640x480 with 1 Axes>"
      ]
     },
     "metadata": {},
     "output_type": "display_data"
    }
   ],
   "source": [
    "patt1 = list(zip(*p1))\n",
    "patt2 = list(zip(*p2))\n",
    "patt3 = list(zip(*p3))\n",
    "patt4 = list(zip(*p4))\n",
    "patt5 = list(zip(*p5))\n",
    "target = list(zip(*target))\n",
    "# plt.plot(patt1[0], patt1[2])\n",
    "# plt.plot(patt2[0], patt2[2])\n",
    "# plt.plot(patt3[0], patt3[2])\n",
    "# plt.plot(patt4[0], patt4[2])\n",
    "plt.plot(patt5[0], patt5[1])\n",
    "plt.plot(target[0], target[1])\n",
    "# plt.step(patt1[0], patt1[2], where='post')\n",
    "# plt.step(patt2[0], patt2[2], where='post')\n",
    "# plt.step(patt3[0], patt3[2], where='post')\n",
    "# plt.step(patt4[0], patt4[2], where='post')\n",
    "# plt.step(target[0], target[2], where='post')\n",
    "plt.show()"
   ]
  },
  {
   "cell_type": "code",
   "execution_count": null,
   "metadata": {},
   "outputs": [
    {
     "ename": "",
     "evalue": "",
     "output_type": "error",
     "traceback": [
      "\u001b[1;31mRunning cells with 'Python 3.9.12 ('base')' requires ipykernel package.\n",
      "\u001b[1;31mRun the following command to install 'ipykernel' into the Python environment. \n",
      "\u001b[1;31mCommand: 'conda install -n base ipykernel --update-deps --force-reinstall'"
     ]
    }
   ],
   "source": [
    "pattern_len = len(p4)\n",
    "target_len = len(target)\n",
    "\n",
    "euclid_sum = (target_len - pattern_len) ** 2"
   ]
  },
  {
   "cell_type": "code",
   "execution_count": 27,
   "metadata": {},
   "outputs": [],
   "source": [
    "if target_len <= pattern_len:\n",
    "    for i in range(target_len):\n",
    "        # get pitch difference\n",
    "        euclid_sum += ((target[i][0] - p4[i][0]) ** 2)\n",
    "        # get rhythm difference\n",
    "        euclid_sum += ((target[i][1] - p4[i][1]) ** 2)\n",
    "else:\n",
    "    for i in range(pattern_len):\n",
    "        # get pitch difference\n",
    "        euclid_sum += ((target[i][0] - p4[i][0]) ** 2)\n",
    "        # get rhythm difference\n",
    "        euclid_sum += ((target[i][1] - p4[i][1]) ** 2)"
   ]
  },
  {
   "cell_type": "code",
   "execution_count": 15,
   "metadata": {},
   "outputs": [
    {
     "data": {
      "text/plain": [
       "4.0"
      ]
     },
     "execution_count": 15,
     "metadata": {},
     "output_type": "execute_result"
    }
   ],
   "source": [
    "p1_dist = math.sqrt(euclid_sum)\n",
    "p1_dist"
   ]
  },
  {
   "cell_type": "code",
   "execution_count": 18,
   "metadata": {},
   "outputs": [
    {
     "data": {
      "text/plain": [
       "9.486832980505138"
      ]
     },
     "execution_count": 18,
     "metadata": {},
     "output_type": "execute_result"
    }
   ],
   "source": [
    "p2_dist = math.sqrt(euclid_sum)\n",
    "p2_dist"
   ]
  },
  {
   "cell_type": "code",
   "execution_count": 24,
   "metadata": {},
   "outputs": [
    {
     "data": {
      "text/plain": [
       "2.0"
      ]
     },
     "execution_count": 24,
     "metadata": {},
     "output_type": "execute_result"
    }
   ],
   "source": [
    "p3_dist = math.sqrt(euclid_sum)\n",
    "p3_dist"
   ]
  },
  {
   "cell_type": "code",
   "execution_count": 28,
   "metadata": {},
   "outputs": [
    {
     "data": {
      "text/plain": [
       "0.0"
      ]
     },
     "execution_count": 28,
     "metadata": {},
     "output_type": "execute_result"
    }
   ],
   "source": [
    "p4_dist = math.sqrt(euclid_sum)\n",
    "p4_dist"
   ]
  },
  {
   "cell_type": "code",
   "execution_count": 3,
   "metadata": {},
   "outputs": [],
   "source": [
    "from collections import Counter"
   ]
  },
  {
   "cell_type": "code",
   "execution_count": 4,
   "metadata": {},
   "outputs": [],
   "source": [
    "p1 = [(0, 2, 60), (2, 2, 60), (4, 2, 62), (6, 2, 62)]\n",
    "pattern_perc = Counter(elem[2] for elem in p1)"
   ]
  },
  {
   "cell_type": "code",
   "execution_count": 2,
   "metadata": {},
   "outputs": [
    {
     "data": {
      "text/plain": [
       "{-1: 0, 60: 0, 62: 0, 64: 0, 65: 0, 67: 0, 69: 0, 71: 0, 72: 0}"
      ]
     },
     "execution_count": 2,
     "metadata": {},
     "output_type": "execute_result"
    }
   ],
   "source": [
    "pitch_options = [-1, 60, 62, 64, 65, 67, 69, 71, 72]\n",
    "pitch_options = dict.fromkeys(pitch_options, 0)\n",
    "pitch_options"
   ]
  },
  {
   "cell_type": "code",
   "execution_count": 6,
   "metadata": {},
   "outputs": [],
   "source": [
    "res = {**pitch_options, **pattern_perc}"
   ]
  },
  {
   "cell_type": "code",
   "execution_count": 8,
   "metadata": {},
   "outputs": [
    {
     "data": {
      "text/plain": [
       "{-1: 0.0,\n",
       " 60: 0.5,\n",
       " 62: 0.5,\n",
       " 64: 0.0,\n",
       " 65: 0.0,\n",
       " 67: 0.0,\n",
       " 69: 0.0,\n",
       " 71: 0.0,\n",
       " 72: 0.0}"
      ]
     },
     "execution_count": 8,
     "metadata": {},
     "output_type": "execute_result"
    }
   ],
   "source": [
    "{key: res[key] / 4 for key in res.keys()}"
   ]
  },
  {
   "cell_type": "code",
   "execution_count": 9,
   "metadata": {},
   "outputs": [],
   "source": [
    "import statistics"
   ]
  },
  {
   "cell_type": "code",
   "execution_count": 15,
   "metadata": {},
   "outputs": [],
   "source": [
    "t = list({k: pitch_options[k] - res[k] for k in pitch_options}.values())"
   ]
  },
  {
   "cell_type": "code",
   "execution_count": 17,
   "metadata": {},
   "outputs": [
    {
     "ename": "TypeError",
     "evalue": "unsupported operand type(s) for ** or pow(): 'list' and 'int'",
     "output_type": "error",
     "traceback": [
      "\u001b[0;31m---------------------------------------------------------------------------\u001b[0m",
      "\u001b[0;31mTypeError\u001b[0m                                 Traceback (most recent call last)",
      "\u001b[1;32m/Users/jocekav/Documents/GitHub/Shimon/melody_gen.ipynb Cell 22\u001b[0m in \u001b[0;36m<cell line: 1>\u001b[0;34m()\u001b[0m\n\u001b[0;32m----> <a href='vscode-notebook-cell:/Users/jocekav/Documents/GitHub/Shimon/melody_gen.ipynb#X32sZmlsZQ%3D%3D?line=0'>1</a>\u001b[0m t \u001b[39m*\u001b[39;49m\u001b[39m*\u001b[39;49m \u001b[39m2\u001b[39;49m\n",
      "\u001b[0;31mTypeError\u001b[0m: unsupported operand type(s) for ** or pow(): 'list' and 'int'"
     ]
    }
   ],
   "source": [
    "t ** 2"
   ]
  },
  {
   "cell_type": "code",
   "execution_count": 18,
   "metadata": {},
   "outputs": [
    {
     "data": {
      "text/plain": [
       "[0, 4, 4, 0, 0, 0, 0, 0, 0]"
      ]
     },
     "execution_count": 18,
     "metadata": {},
     "output_type": "execute_result"
    }
   ],
   "source": [
    "[i ** 2 for i in t]"
   ]
  },
  {
   "cell_type": "code",
   "execution_count": 28,
   "metadata": {},
   "outputs": [],
   "source": [
    "import operator\n",
    "i = (1, 1, 1)\n",
    "j = (2, 2, 2)\n",
    "\n",
    "mapps = map(operator.sub, i, j)"
   ]
  },
  {
   "cell_type": "code",
   "execution_count": 29,
   "metadata": {},
   "outputs": [
    {
     "data": {
      "text/plain": [
       "[-1, -1, -1]"
      ]
     },
     "execution_count": 29,
     "metadata": {},
     "output_type": "execute_result"
    }
   ],
   "source": [
    "list(mapps)"
   ]
  },
  {
   "cell_type": "code",
   "execution_count": 42,
   "metadata": {},
   "outputs": [],
   "source": [
    "import ast\n",
    "import random\n",
    "file = open('melodies.txt')\n",
    "population = []\n",
    "line = file.readline()\n",
    "while line is not None:\n",
    "# for i in range(100):\n",
    "    pattern = ast.literal_eval(line)\n",
    "    population.append(pattern)\n",
    "    line = file.readline()\n",
    "    if not line:\n",
    "        break\n",
    "file.close()"
   ]
  },
  {
   "cell_type": "code",
   "execution_count": 51,
   "metadata": {},
   "outputs": [
    {
     "name": "stdout",
     "output_type": "stream",
     "text": [
      "[(1, 62), (4, 65), (1.5, 67), (0.5, 65), (1, 60)]\n",
      "[(0.5, 67), (3, 65), (1, 72), (1.5, 64), (2.0, -1)]\n"
     ]
    }
   ],
   "source": [
    "parent1 = random.choice(population)\n",
    "print(parent1)\n",
    "parent2 = random.choice(population)\n",
    "print(parent2)"
   ]
  },
  {
   "cell_type": "code",
   "execution_count": 52,
   "metadata": {},
   "outputs": [
    {
     "data": {
      "text/plain": [
       "[(0.5, 67), (3, 65), (1, 72), (1.5, 64), (2.0, -1)]"
      ]
     },
     "execution_count": 52,
     "metadata": {},
     "output_type": "execute_result"
    }
   ],
   "source": [
    "total = 0\n",
    "ind = 0\n",
    "switch = False\n",
    "new = []\n",
    "while total <= 8 and (ind < len(parent1) or ind < len(parent2)):\n",
    "    if switch:\n",
    "        if ind < len(parent1) and parent1[ind][0] + total <= 8:\n",
    "            new.append(parent1[ind])\n",
    "            total += parent1[ind][0]\n",
    "        elif ind < len(parent2) and parent2[ind][0] + total <= 8:\n",
    "            new.append(parent2[ind])\n",
    "            total += parent2[ind][0]\n",
    "    else:\n",
    "        if ind < len(parent2) and parent2[ind][0] + total <= 8:\n",
    "            new.append(parent2[ind])\n",
    "            total += parent2[ind][0]\n",
    "        elif ind < len(parent2) and parent1[ind][0] + total <= 8:\n",
    "            new.append(parent1[ind])\n",
    "            total += parent1[ind][0]\n",
    "    ind += 1\n",
    "\n",
    "new"
   ]
  },
  {
   "cell_type": "code",
   "execution_count": 84,
   "metadata": {},
   "outputs": [],
   "source": [
    "gene_pattern = [(0.5, 67), (3, 65), (1, 72), (1.5, 64), (2.0, -1)]\n",
    "rhythm_options = [0.25, 0.5, 1, 1.5, 2, 3, 4]"
   ]
  },
  {
   "cell_type": "code",
   "execution_count": 85,
   "metadata": {},
   "outputs": [
    {
     "name": "stdout",
     "output_type": "stream",
     "text": [
      "[(0.5, 67), (3, 65), (1, 72), (1.5, 64), (1.0, -1), (1.0, -1)]\n"
     ]
    }
   ],
   "source": [
    "inserted = False\n",
    "ind = random.randint(0, len(gene_pattern))\n",
    "while not inserted:\n",
    "    try_rhy = gene_pattern[ind][0] / 2\n",
    "    if try_rhy in rhythm_options:\n",
    "        pitch = gene_pattern[ind][1]\n",
    "        gene_pattern[ind] = (try_rhy, pitch)\n",
    "        gene_pattern.append((try_rhy, pitch))\n",
    "        inserted = True\n",
    "    ind = (ind + 1) % len(gene_pattern)\n",
    "print(gene_pattern)"
   ]
  },
  {
   "cell_type": "code",
   "execution_count": 78,
   "metadata": {},
   "outputs": [
    {
     "name": "stdout",
     "output_type": "stream",
     "text": [
      "2\n",
      "[(4, 72), (2.0, 64)]\n",
      "6.0\n",
      "4.0\n",
      "[(4, 72), (4.0, 64)]\n"
     ]
    }
   ],
   "source": [
    "flip_ind = random.randint(0, len(gene_pattern))\n",
    "print(flip_ind)\n",
    "change_note_dur = gene_pattern[flip_ind][0]\n",
    "\n",
    "# if (random.random() % 2):\n",
    "del gene_pattern[flip_ind]\n",
    "print(gene_pattern)\n",
    "inserted = False\n",
    "ind = 0\n",
    "while not inserted:\n",
    "    try_rhy = gene_pattern[ind][0] + change_note_dur\n",
    "    print(try_rhy)\n",
    "    if try_rhy in rhythm_options:\n",
    "        pitch = gene_pattern[ind][1]\n",
    "        gene_pattern[ind] = (try_rhy, pitch)\n",
    "        inserted = True\n",
    "    ind = ind + 1\n",
    "print(gene_pattern)"
   ]
  },
  {
   "cell_type": "code",
   "execution_count": 63,
   "metadata": {},
   "outputs": [
    {
     "data": {
      "text/plain": [
       "[(0.5, 67), (3, 65), (1, 72), (1.5, 64)]"
      ]
     },
     "execution_count": 63,
     "metadata": {},
     "output_type": "execute_result"
    }
   ],
   "source": [
    "gene_pattern"
   ]
  },
  {
   "cell_type": "code",
   "execution_count": null,
   "metadata": {},
   "outputs": [],
   "source": []
  }
 ],
 "metadata": {
  "kernelspec": {
   "display_name": "Python 3.9.12 ('base')",
   "language": "python",
   "name": "python3"
  },
  "language_info": {
   "codemirror_mode": {
    "name": "ipython",
    "version": 3
   },
   "file_extension": ".py",
   "mimetype": "text/x-python",
   "name": "python",
   "nbconvert_exporter": "python",
   "pygments_lexer": "ipython3",
   "version": "3.9.13"
  },
  "orig_nbformat": 4,
  "vscode": {
   "interpreter": {
    "hash": "18cd02f20674ff45088cc378bfd434f479dafda8344c25e6925d00e6a6fabcc0"
   }
  }
 },
 "nbformat": 4,
 "nbformat_minor": 2
}
